{
 "cells": [
  {
   "cell_type": "markdown",
   "metadata": {},
   "source": [
    "# Finance Data Analysis\n",
    "Roberto Garbarino\n",
    "\n",
    "This Project will be built upon the analysis of the Finance Data Dataset found [here](https://www.kaggle.com/cnic92/200-financial-indicators-of-us-stocks-20142018) \n",
    "\n",
    "This Dataset Contains over 200 Financial indicators of US Stocks.\n",
    "The main goal will is to be able to predict a positive or a negative outlook for a single stock based on this data.\n",
    "The last column of the dataset represent the class of each stock, where:\n",
    "\n",
    " - if the value of a stock increases at the end of the next year, then class=1;\n",
    " - if the value of a stock decreases at the end of the next year, then class=0."
   ]
  },
  {
   "cell_type": "markdown",
   "metadata": {},
   "source": [
    "## 0 - Imports"
   ]
  },
  {
   "cell_type": "code",
   "execution_count": 3,
   "metadata": {},
   "outputs": [],
   "source": [
    "##Math and data manipulation\n",
    "import numpy as np\n",
    "import pandas as pd\n",
    "import scipy\n",
    "\n",
    "##ML imports\n",
    "from sklearn.model_selection import train_test_split, GridSearchCV\n",
    "from sklearn.svm import SVC\n",
    "from sklearn.impute import SimpleImputer\n",
    "\n",
    "##Plotting Imports & Settings\n",
    "import matplotlib.pyplot as plt\n",
    "from pylab import rcParams\n",
    "rcParams['figure.figsize'] = 15, 5 ##This makes the plots bigger\n",
    "import sys\n",
    "np.set_printoptions(threshold=sys.maxsize)"
   ]
  },
  {
   "cell_type": "markdown",
   "metadata": {},
   "source": [
    "## 1 - Data Analysis and Exploration"
   ]
  },
  {
   "cell_type": "markdown",
   "metadata": {},
   "source": [
    "Let's open our dataset using Pandas."
   ]
  },
  {
   "cell_type": "code",
   "execution_count": 4,
   "metadata": {},
   "outputs": [],
   "source": [
    "D2014 = pd.read_csv('2014_Financial_Data.csv')"
   ]
  },
  {
   "cell_type": "markdown",
   "metadata": {},
   "source": [
    "### A first Look to the Data"
   ]
  },
  {
   "cell_type": "markdown",
   "metadata": {},
   "source": [
    "Let's take a first look at our data."
   ]
  },
  {
   "cell_type": "code",
   "execution_count": 5,
   "metadata": {
    "scrolled": true
   },
   "outputs": [
    {
     "data": {
      "text/html": [
       "<div>\n",
       "<style scoped>\n",
       "    .dataframe tbody tr th:only-of-type {\n",
       "        vertical-align: middle;\n",
       "    }\n",
       "\n",
       "    .dataframe tbody tr th {\n",
       "        vertical-align: top;\n",
       "    }\n",
       "\n",
       "    .dataframe thead th {\n",
       "        text-align: right;\n",
       "    }\n",
       "</style>\n",
       "<table border=\"1\" class=\"dataframe\">\n",
       "  <thead>\n",
       "    <tr style=\"text-align: right;\">\n",
       "      <th></th>\n",
       "      <th>Unnamed: 0</th>\n",
       "      <th>Revenue</th>\n",
       "      <th>Revenue Growth</th>\n",
       "      <th>Cost of Revenue</th>\n",
       "      <th>Gross Profit</th>\n",
       "      <th>R&amp;D Expenses</th>\n",
       "      <th>SG&amp;A Expense</th>\n",
       "      <th>Operating Expenses</th>\n",
       "      <th>Operating Income</th>\n",
       "      <th>Interest Expense</th>\n",
       "      <th>...</th>\n",
       "      <th>Receivables growth</th>\n",
       "      <th>Inventory Growth</th>\n",
       "      <th>Asset Growth</th>\n",
       "      <th>Book Value per Share Growth</th>\n",
       "      <th>Debt Growth</th>\n",
       "      <th>R&amp;D Expense Growth</th>\n",
       "      <th>SG&amp;A Expenses Growth</th>\n",
       "      <th>Sector</th>\n",
       "      <th>2015 PRICE VAR [%]</th>\n",
       "      <th>Class</th>\n",
       "    </tr>\n",
       "  </thead>\n",
       "  <tbody>\n",
       "    <tr>\n",
       "      <th>0</th>\n",
       "      <td>PG</td>\n",
       "      <td>7.440100e+10</td>\n",
       "      <td>-0.0713</td>\n",
       "      <td>3.903000e+10</td>\n",
       "      <td>3.537100e+10</td>\n",
       "      <td>0.000000e+00</td>\n",
       "      <td>2.146100e+10</td>\n",
       "      <td>2.146100e+10</td>\n",
       "      <td>1.391000e+10</td>\n",
       "      <td>7.090000e+08</td>\n",
       "      <td>...</td>\n",
       "      <td>-0.0187</td>\n",
       "      <td>-0.0217</td>\n",
       "      <td>0.0359</td>\n",
       "      <td>0.0316</td>\n",
       "      <td>0.1228</td>\n",
       "      <td>0.0000</td>\n",
       "      <td>-0.1746</td>\n",
       "      <td>Consumer Defensive</td>\n",
       "      <td>-9.323276</td>\n",
       "      <td>0</td>\n",
       "    </tr>\n",
       "    <tr>\n",
       "      <th>1</th>\n",
       "      <td>VIPS</td>\n",
       "      <td>3.734148e+09</td>\n",
       "      <td>1.1737</td>\n",
       "      <td>2.805625e+09</td>\n",
       "      <td>9.285226e+08</td>\n",
       "      <td>1.083303e+08</td>\n",
       "      <td>3.441414e+08</td>\n",
       "      <td>7.939267e+08</td>\n",
       "      <td>1.345959e+08</td>\n",
       "      <td>1.214869e+07</td>\n",
       "      <td>...</td>\n",
       "      <td>NaN</td>\n",
       "      <td>NaN</td>\n",
       "      <td>NaN</td>\n",
       "      <td>NaN</td>\n",
       "      <td>NaN</td>\n",
       "      <td>1.6484</td>\n",
       "      <td>1.7313</td>\n",
       "      <td>Consumer Defensive</td>\n",
       "      <td>-25.512193</td>\n",
       "      <td>0</td>\n",
       "    </tr>\n",
       "    <tr>\n",
       "      <th>2</th>\n",
       "      <td>KR</td>\n",
       "      <td>9.837500e+10</td>\n",
       "      <td>0.0182</td>\n",
       "      <td>7.813800e+10</td>\n",
       "      <td>2.023700e+10</td>\n",
       "      <td>0.000000e+00</td>\n",
       "      <td>1.519600e+10</td>\n",
       "      <td>1.751200e+10</td>\n",
       "      <td>2.725000e+09</td>\n",
       "      <td>4.430000e+08</td>\n",
       "      <td>...</td>\n",
       "      <td>0.0618</td>\n",
       "      <td>0.0981</td>\n",
       "      <td>0.1886</td>\n",
       "      <td>0.3268</td>\n",
       "      <td>0.2738</td>\n",
       "      <td>0.0000</td>\n",
       "      <td>0.0234</td>\n",
       "      <td>Consumer Defensive</td>\n",
       "      <td>33.118297</td>\n",
       "      <td>1</td>\n",
       "    </tr>\n",
       "    <tr>\n",
       "      <th>3</th>\n",
       "      <td>RAD</td>\n",
       "      <td>2.552641e+10</td>\n",
       "      <td>0.0053</td>\n",
       "      <td>1.820268e+10</td>\n",
       "      <td>7.323734e+09</td>\n",
       "      <td>0.000000e+00</td>\n",
       "      <td>6.561162e+09</td>\n",
       "      <td>6.586482e+09</td>\n",
       "      <td>7.372520e+08</td>\n",
       "      <td>4.245910e+08</td>\n",
       "      <td>...</td>\n",
       "      <td>0.0211</td>\n",
       "      <td>-0.0510</td>\n",
       "      <td>-0.0189</td>\n",
       "      <td>0.1963</td>\n",
       "      <td>-0.0458</td>\n",
       "      <td>0.0000</td>\n",
       "      <td>-0.0060</td>\n",
       "      <td>Consumer Defensive</td>\n",
       "      <td>2.752291</td>\n",
       "      <td>1</td>\n",
       "    </tr>\n",
       "    <tr>\n",
       "      <th>4</th>\n",
       "      <td>GIS</td>\n",
       "      <td>1.790960e+10</td>\n",
       "      <td>0.0076</td>\n",
       "      <td>1.153980e+10</td>\n",
       "      <td>6.369800e+09</td>\n",
       "      <td>0.000000e+00</td>\n",
       "      <td>3.474300e+09</td>\n",
       "      <td>3.412400e+09</td>\n",
       "      <td>2.957400e+09</td>\n",
       "      <td>3.024000e+08</td>\n",
       "      <td>...</td>\n",
       "      <td>0.0257</td>\n",
       "      <td>0.0090</td>\n",
       "      <td>0.0215</td>\n",
       "      <td>0.0274</td>\n",
       "      <td>0.1025</td>\n",
       "      <td>0.0000</td>\n",
       "      <td>-0.0220</td>\n",
       "      <td>Consumer Defensive</td>\n",
       "      <td>12.897715</td>\n",
       "      <td>1</td>\n",
       "    </tr>\n",
       "  </tbody>\n",
       "</table>\n",
       "<p>5 rows × 225 columns</p>\n",
       "</div>"
      ],
      "text/plain": [
       "  Unnamed: 0       Revenue  Revenue Growth  Cost of Revenue  Gross Profit  \\\n",
       "0         PG  7.440100e+10         -0.0713     3.903000e+10  3.537100e+10   \n",
       "1       VIPS  3.734148e+09          1.1737     2.805625e+09  9.285226e+08   \n",
       "2         KR  9.837500e+10          0.0182     7.813800e+10  2.023700e+10   \n",
       "3        RAD  2.552641e+10          0.0053     1.820268e+10  7.323734e+09   \n",
       "4        GIS  1.790960e+10          0.0076     1.153980e+10  6.369800e+09   \n",
       "\n",
       "   R&D Expenses  SG&A Expense  Operating Expenses  Operating Income  \\\n",
       "0  0.000000e+00  2.146100e+10        2.146100e+10      1.391000e+10   \n",
       "1  1.083303e+08  3.441414e+08        7.939267e+08      1.345959e+08   \n",
       "2  0.000000e+00  1.519600e+10        1.751200e+10      2.725000e+09   \n",
       "3  0.000000e+00  6.561162e+09        6.586482e+09      7.372520e+08   \n",
       "4  0.000000e+00  3.474300e+09        3.412400e+09      2.957400e+09   \n",
       "\n",
       "   Interest Expense  ...  Receivables growth  Inventory Growth  Asset Growth  \\\n",
       "0      7.090000e+08  ...             -0.0187           -0.0217        0.0359   \n",
       "1      1.214869e+07  ...                 NaN               NaN           NaN   \n",
       "2      4.430000e+08  ...              0.0618            0.0981        0.1886   \n",
       "3      4.245910e+08  ...              0.0211           -0.0510       -0.0189   \n",
       "4      3.024000e+08  ...              0.0257            0.0090        0.0215   \n",
       "\n",
       "   Book Value per Share Growth  Debt Growth  R&D Expense Growth  \\\n",
       "0                       0.0316       0.1228              0.0000   \n",
       "1                          NaN          NaN              1.6484   \n",
       "2                       0.3268       0.2738              0.0000   \n",
       "3                       0.1963      -0.0458              0.0000   \n",
       "4                       0.0274       0.1025              0.0000   \n",
       "\n",
       "   SG&A Expenses Growth              Sector  2015 PRICE VAR [%]  Class  \n",
       "0               -0.1746  Consumer Defensive           -9.323276      0  \n",
       "1                1.7313  Consumer Defensive          -25.512193      0  \n",
       "2                0.0234  Consumer Defensive           33.118297      1  \n",
       "3               -0.0060  Consumer Defensive            2.752291      1  \n",
       "4               -0.0220  Consumer Defensive           12.897715      1  \n",
       "\n",
       "[5 rows x 225 columns]"
      ]
     },
     "execution_count": 5,
     "metadata": {},
     "output_type": "execute_result"
    }
   ],
   "source": [
    "df = D2014.copy()\n",
    "df.head()"
   ]
  },
  {
   "cell_type": "markdown",
   "metadata": {},
   "source": [
    "Let's remove the name column and PRICE VAR [%] column. We need to remove this last column since it's an indicator of the next year trend, and in a general context, this information isn't available to us."
   ]
  },
  {
   "cell_type": "code",
   "execution_count": 6,
   "metadata": {},
   "outputs": [
    {
     "name": "stdout",
     "output_type": "stream",
     "text": [
      "<class 'pandas.core.frame.DataFrame'>\n",
      "RangeIndex: 3808 entries, 0 to 3807\n",
      "Columns: 223 entries, Revenue to Class\n",
      "dtypes: float64(221), int64(1), object(1)\n",
      "memory usage: 6.5+ MB\n"
     ]
    }
   ],
   "source": [
    "df = df.loc[:, df.columns != 'Unnamed: 0']\n",
    "df = df.loc[:, df.columns != '2015 PRICE VAR [%]']\n",
    "df.info()"
   ]
  },
  {
   "cell_type": "code",
   "execution_count": 7,
   "metadata": {},
   "outputs": [],
   "source": [
    "##Let's Save The Y column\n",
    "df_Y = df['Class']"
   ]
  },
  {
   "cell_type": "markdown",
   "metadata": {},
   "source": [
    "As we can see, we have 1 object column which is a categorical column, the sector on which the company operates.\n",
    "\n",
    "To train our model we have to change this categorical column from a string one into a numeric one.\n",
    "Let's define a function to do that."
   ]
  },
  {
   "cell_type": "code",
   "execution_count": 8,
   "metadata": {},
   "outputs": [],
   "source": [
    "def normalize_sector(dataset):    \n",
    "    count = 1\n",
    "    dic = {}\n",
    "    for elem in dataset.Sector:\n",
    "        if elem not in dic:\n",
    "            dic[elem] = str(count)\n",
    "            count += 1\n",
    "\n",
    "    for elem in dic.items():\n",
    "        dataset.loc[dataset['Sector'] == elem[0], 'Sector'] = elem[1]\n",
    "    dataset['Sector'] = dataset['Sector'].astype('int')"
   ]
  },
  {
   "cell_type": "code",
   "execution_count": 9,
   "metadata": {},
   "outputs": [],
   "source": [
    "normalize_sector(df)"
   ]
  },
  {
   "cell_type": "code",
   "execution_count": 10,
   "metadata": {},
   "outputs": [
    {
     "name": "stdout",
     "output_type": "stream",
     "text": [
      "<class 'pandas.core.frame.DataFrame'>\n",
      "RangeIndex: 3808 entries, 0 to 3807\n",
      "Columns: 223 entries, Revenue to Class\n",
      "dtypes: float64(221), int32(1), int64(1)\n",
      "memory usage: 6.5 MB\n"
     ]
    }
   ],
   "source": [
    "df.info()"
   ]
  },
  {
   "cell_type": "code",
   "execution_count": 11,
   "metadata": {},
   "outputs": [
    {
     "data": {
      "text/plain": [
       "0    1\n",
       "1    1\n",
       "2    1\n",
       "3    1\n",
       "4    1\n",
       "Name: Sector, dtype: int32"
      ]
     },
     "execution_count": 11,
     "metadata": {},
     "output_type": "execute_result"
    }
   ],
   "source": [
    "df.Sector.head()"
   ]
  },
  {
   "cell_type": "markdown",
   "metadata": {},
   "source": [
    "We have successfully modified the `Sector` column.\n",
    "\n",
    "Let's now look at the class balance in the dataset."
   ]
  },
  {
   "cell_type": "code",
   "execution_count": 12,
   "metadata": {},
   "outputs": [
    {
     "name": "stdout",
     "output_type": "stream",
     "text": [
      "The number of zeros is 2174 and the number of ones is 1634\n"
     ]
    },
    {
     "data": {
      "image/png": "[encoded data removed]",
      "text/plain": [
       "<Figure size 1080x360 with 1 Axes>"
      ]
     },
     "metadata": {
      "needs_background": "light"
     },
     "output_type": "display_data"
    }
   ],
   "source": [
    "classes = df['Class'].to_numpy()\n",
    "zeros = len(classes[classes == 0])\n",
    "ones = len(classes[classes == 1])\n",
    "plt.bar([0, 1], [zeros, ones])\n",
    "plt.title('Number of entry for each class')\n",
    "plt.xticks([0, 1], ['0', '1'])\n",
    "\n",
    "print('The number of zeros is', zeros, 'and the number of ones is', ones)"
   ]
  },
  {
   "cell_type": "markdown",
   "metadata": {},
   "source": [
    "So we have that the dataset is not balanced, but we are going to address this problem later in the notebook."
   ]
  },
  {
   "cell_type": "markdown",
   "metadata": {},
   "source": [
    "### Missing Values and Zero-Values\n",
    "\n",
    "Let's move on and address the missing values in the dataset.\n",
    "\n",
    "First let's see how many missing values we have"
   ]
  },
  {
   "cell_type": "code",
   "execution_count": 13,
   "metadata": {},
   "outputs": [
    {
     "data": {
      "image/png": "[encoded data removed]",
      "text/plain": [
       "<Figure size 1080x360 with 1 Axes>"
      ]
     },
     "metadata": {
      "needs_background": "light"
     },
     "output_type": "display_data"
    }
   ],
   "source": [
    "nan_val = df.isna().sum()\n",
    "nan_perc = 100 * nan_val / df.shape[0]\n",
    "plt.title('Percentage of Missing Values for each column')\n",
    "plt.bar(df.keys(), nan_perc)\n",
    "plt.show()"
   ]
  },
  {
   "cell_type": "markdown",
   "metadata": {},
   "source": [
    "We have a lot of missing value, for some column almost 100% of its entries are NaN values. A good start could be to define a threshold of missing value of a column over which we completely drop it.\n",
    "Let's drop a column if it has more than 7% of missing data."
   ]
  },
  {
   "cell_type": "code",
   "execution_count": 14,
   "metadata": {},
   "outputs": [],
   "source": [
    "thresh = df.shape[0] - df.shape[0]*0.07\n",
    "df = df.dropna(thresh = thresh, axis=1)"
   ]
  },
  {
   "cell_type": "markdown",
   "metadata": {},
   "source": [
    "Let's now look at the zero values in each column"
   ]
  },
  {
   "cell_type": "code",
   "execution_count": 15,
   "metadata": {},
   "outputs": [
    {
     "data": {
      "image/png": "[encoded data removed]",
      "text/plain": [
       "<Figure size 1080x360 with 1 Axes>"
      ]
     },
     "metadata": {
      "needs_background": "light"
     },
     "output_type": "display_data"
    }
   ],
   "source": [
    "zero_val = df.isin([0]).sum()\n",
    "zero_perc = 100 * zero_val / df.shape[0]\n",
    "plt.title('Percentage of Zero Values for each column')\n",
    "plt.bar(df.keys(), zero_perc)\n",
    "plt.show()"
   ]
  },
  {
   "cell_type": "markdown",
   "metadata": {},
   "source": [
    "We have a lot of zero values, some column are zero for almost every entry. As before, let's define a threshold for zero values, at 10%."
   ]
  },
  {
   "cell_type": "code",
   "execution_count": 16,
   "metadata": {},
   "outputs": [],
   "source": [
    "thresh = df.shape[0]-df.shape[0] * 0.9\n",
    "df = df.loc[:, (df.isin([0]).sum(axis=0) <= thresh)]"
   ]
  },
  {
   "cell_type": "markdown",
   "metadata": {},
   "source": [
    "And Finally let's visualize the changes."
   ]
  },
  {
   "cell_type": "code",
   "execution_count": 17,
   "metadata": {},
   "outputs": [
    {
     "data": {
      "image/png": "[encoded data removed]",
      "text/plain": [
       "<Figure size 1080x360 with 1 Axes>"
      ]
     },
     "metadata": {
      "needs_background": "light"
     },
     "output_type": "display_data"
    },
    {
     "data": {
      "image/png": "[encoded data removed]",
      "text/plain": [
       "<Figure size 1080x360 with 1 Axes>"
      ]
     },
     "metadata": {
      "needs_background": "light"
     },
     "output_type": "display_data"
    },
    {
     "name": "stdout",
     "output_type": "stream",
     "text": [
      "The shape of our Dataset after these changes is  (3808, 68)\n"
     ]
    }
   ],
   "source": [
    "nan_val = df.isna().sum()\n",
    "nan_perc = 100 * nan_val / df.shape[0]\n",
    "plt.title('Percentage of Missing Values for each column')\n",
    "plt.bar(df.keys(), nan_perc)\n",
    "plt.show()\n",
    "\n",
    "zero_val = df.isin([0]).sum()\n",
    "zero_perc = 100 * zero_val / df.shape[0]\n",
    "plt.title('Percentage of Zero Values for each column')\n",
    "plt.bar(df.keys(), zero_perc)\n",
    "plt.show()\n",
    "\n",
    "print('The shape of our Dataset after these changes is ', df.shape)"
   ]
  },
  {
   "cell_type": "markdown",
   "metadata": {},
   "source": [
    "We have removed more than 150 features. This will help us to save time in the training of our model, and will also reduce the variance over our future estimates."
   ]
  },
  {
   "cell_type": "markdown",
   "metadata": {},
   "source": [
    "### Imputing missing values and Final Touches to the dataset"
   ]
  },
  {
   "cell_type": "markdown",
   "metadata": {},
   "source": [
    "Let's now divide X and Y (Y is the `Class` column we saved before) for training purposes. We also want to change the values of Y to 1 and -1, to remain coherent with our theoretical background."
   ]
  },
  {
   "cell_type": "code",
   "execution_count": 18,
   "metadata": {},
   "outputs": [],
   "source": [
    "Y = df_Y.to_numpy()\n",
    "X = df.to_numpy()\n",
    "Y[Y==0] = -1"
   ]
  },
  {
   "cell_type": "markdown",
   "metadata": {},
   "source": [
    "We have removed the column where we had the most missing values, but we have not removed all of them.\n",
    "\n",
    "To fill the missing data we can apply different strategies\n",
    " - fill them with zeros\n",
    " - fill them with the mean of the column\n",
    " - fill them with the median of the column\n",
    " - fill them with a constant number\n",
    " \n",
    "In this case I decided to fill them with the mean of the whole column, using the `SimpleImputer` class from `sklearn` "
   ]
  },
  {
   "cell_type": "code",
   "execution_count": 19,
   "metadata": {},
   "outputs": [],
   "source": [
    "imputer = SimpleImputer(strategy = 'mean')\n",
    "imputer.fit(X)\n",
    "X = imputer.transform(X)"
   ]
  },
  {
   "cell_type": "markdown",
   "metadata": {},
   "source": [
    "Lastly, let's define the classic error function needed."
   ]
  },
  {
   "cell_type": "code",
   "execution_count": 2,
   "metadata": {},
   "outputs": [],
   "source": [
    "def calcError(Ypred, Y): \n",
    "    V=np.multiply(np.sign(Ypred),np.sign(Y) )\n",
    "    return np.count_nonzero(V<0)/len(Y)"
   ]
  },
  {
   "cell_type": "markdown",
   "metadata": {},
   "source": [
    "## 2 - Binary Classification with Support Vector Machines"
   ]
  },
  {
   "cell_type": "markdown",
   "metadata": {},
   "source": [
    "Let's proceed with our machine learning task.\n",
    "We will use **Support Vector Machines**. I believe that this is one of the best method since we have an unbalanced dataset and using SVMs we can easily define weights for our classes.\n",
    "To accomplish this we are going to use the `SVC` class defined in the `sklearn` package.\n",
    "\n",
    "Let's start by dividing the data into training and test (with 70% of Samples going to the training set) using the `train_test_split` function. Here we need to use the stratify parameter to ensure that the relative class frequencies are preserved when splitting the data."
   ]
  },
  {
   "cell_type": "code",
   "execution_count": 21,
   "metadata": {
    "scrolled": true
   },
   "outputs": [],
   "source": [
    "Xtr, Xte, Ytr, Yte = train_test_split(X, Y, test_size=0.2, random_state = 42, stratify = Y)\n",
    "\n",
    "norm = np.linalg.norm(Xtr, axis = 0)\n",
    "Xtrnorm = Xtr/norm\n",
    "Xtenorm = Xte/norm"
   ]
  },
  {
   "cell_type": "markdown",
   "metadata": {},
   "source": [
    "Let's take a look at the **Support Vector Classifier**. Another advantage of using SVMs is that we can natively define a kernel in the sklearn method.\n",
    "We have the support of 4 different kernels:\n",
    " - *RBF* (Or *Gaussian Kernel*)\n",
    " - *Linear*\n",
    " - *Sigmoid*\n",
    " - *Polynomial*\n",
    " \n",
    "We have to choose `gamma` parameter for the RBF, Sigmoid and Polynomial kernels, and the `degree` parameter only for the polynomial one.\n",
    "Support Vector Machines are also defined by the *slack* variable, defined as `C` in the `SVC` class. The slack variable represents how many samples we can allow to be misclassified.\n",
    "\n",
    "To rebalance the dataset, we can set weights to each class by setting the `class_weight` option on `balanced`\n"
   ]
  },
  {
   "cell_type": "code",
   "execution_count": 22,
   "metadata": {},
   "outputs": [
    {
     "name": "stdout",
     "output_type": "stream",
     "text": [
      "The error on our test set using SVC with RBF Kernel is 0.3963254593175853\n",
      "The error on our training set using SVC with RBF Kernel is 0.3952724885095207\n"
     ]
    }
   ],
   "source": [
    "svm = SVC(class_weight = 'balanced') \n",
    "svm.fit(Xtrnorm, Ytr)\n",
    "Ypred = svm.predict(Xtenorm)\n",
    "print('The error on our test set using SVC with RBF Kernel is', calcError(Ypred, Yte))\n",
    "Ypred = svm.predict(Xtrnorm)\n",
    "print('The error on our training set using SVC with RBF Kernel is', calcError(Ypred, Ytr))"
   ]
  },
  {
   "cell_type": "markdown",
   "metadata": {},
   "source": [
    "But the prediction is critical to the choiche of `C`, `gamma`(eventually `degree`) and the underlying kernel. To decide which parameters are better we use `GridSearchCV`, to test every combination using **Cross Validation** with 5 folds.\n",
    "\n",
    "This function takes a list of dictionaries as a parameter, where each dictionary define all the possible values for each kernel."
   ]
  },
  {
   "cell_type": "code",
   "execution_count": 21,
   "metadata": {},
   "outputs": [
    {
     "data": {
      "text/plain": [
       "GridSearchCV(estimator=SVC(class_weight='balanced'),\n",
       "             param_grid=[{'C': [0.1, 1, 10, 20, 50, 100, 200],\n",
       "                          'gamma': [30, 40, 50, 100, 200, 300, 400, 600, 1000,\n",
       "                                    1, 1.1, 1.2, 0.1, 0.01, 0.001],\n",
       "                          'kernel': ['rbf']},\n",
       "                         {'C': [0.1, 1, 10, 20, 50, 100, 200],\n",
       "                          'kernel': ['linear']},\n",
       "                         {'C': [0.1, 1, 10, 20, 50, 100, 200],\n",
       "                          'degree': [1, 2, 3, 4, 5, 6],\n",
       "                          'gamma': [30, 40, 50, 100, 200, 300, 400, 600, 1000,\n",
       "                                    1, 1.1, 1.2, 0.1, 0.01, 0.001],\n",
       "                          'kernel': ['poly']},\n",
       "                         {'C': [0.1, 1, 10, 20, 50, 100, 200],\n",
       "                          'gamma': [30, 40, 50, 100, 200, 300, 400, 600, 1000,\n",
       "                                    1, 1.1, 1.2, 0.1, 0.01, 0.001],\n",
       "                          'kernel': ['sigmoid']}])"
      ]
     },
     "execution_count": 21,
     "metadata": {},
     "output_type": "execute_result"
    }
   ],
   "source": [
    "params = [\n",
    "    {'C': [0.1, 1, 10, 20, 50, 100, 200], 'gamma': [30, 40, 50, 100, 200, 300, 400, 600, 1000, 1,1.1,1.2,0.1,0.01,0.001],'kernel': ['rbf']},\n",
    "    {'C': [0.1, 1, 10, 20, 50, 100, 200], 'kernel': ['linear']},\n",
    "    {'C': [0.1, 1, 10, 20, 50, 100, 200], 'gamma': [30, 40, 50, 100, 200, 300, 400, 600, 1000, 1,1.1,1.2,0.1,0.01,0.001],'degree': [1,2,3,4,5,6], 'kernel' : ['poly']},\n",
    "    {'C': [0.1, 1, 10, 20, 50, 100, 200],'kernel': ['sigmoid']}\n",
    "]\n",
    "grid = GridSearchCV(SVC(class_weight = 'balanced'), params)\n",
    "grid.fit(Xtrnorm, Ytr)"
   ]
  },
  {
   "cell_type": "code",
   "execution_count": 57,
   "metadata": {},
   "outputs": [
    {
     "name": "stdout",
     "output_type": "stream",
     "text": [
      "The best estimator found using CV is SVC(C=1, class_weight='balanced', degree=2, gamma=600, kernel='poly')\n",
      "The Training error is 0.3479973736047275\n",
      "The Test error is 0.3910761154855643\n"
     ]
    }
   ],
   "source": [
    "print('The best estimator found using CV is', grid.best_estimator_)\n",
    "YpredTr = grid.predict(Xtrnorm) \n",
    "YpredTe = grid.predict(Xtenorm)\n",
    "print('The Training error is', calcError(YpredTr, Ytr))\n",
    "print('The Test error is', calcError(YpredTe, Yte))"
   ]
  },
  {
   "cell_type": "markdown",
   "metadata": {},
   "source": [
    "Our Prediction got Slightly Better.\n",
    "\n",
    "The relatively small difference between the training and test error means that our model is in that sweet spot of balance in the Bias-Variance Tradeoff."
   ]
  },
  {
   "cell_type": "markdown",
   "metadata": {},
   "source": [
    "## 3 - Variable Selection"
   ]
  },
  {
   "cell_type": "markdown",
   "metadata": {},
   "source": [
    "We are now going to apply **Orthogonal Matching Pursuit** to find the most relevant Variables in our Dataset."
   ]
  },
  {
   "cell_type": "code",
   "execution_count": 23,
   "metadata": {},
   "outputs": [],
   "source": [
    "def KFoldCVOMP(Xtr, Ytr, KF, niter_list):\n",
    "\n",
    "    if KF <= 0:\n",
    "        print(\"Please supply a positive number of repetitions\")\n",
    "        return -1\n",
    "\n",
    "    # Ensures that k_list is a numpy array\n",
    "    niter_list = np.array(niter_list)\n",
    "    num_niter = niter_list.size\n",
    "\n",
    "    n_tot = Xtr.shape[0]\n",
    "    n_val = int(np.floor(n_tot/KF))\n",
    "\n",
    "    Tm = np.zeros(num_niter)\n",
    "    Ts = np.zeros(num_niter)\n",
    "    Vm = np.zeros(num_niter)\n",
    "    Vs = np.zeros(num_niter)\n",
    "\n",
    "    # Random permutation of training data\n",
    "    rand_idx = np.random.choice(n_tot, size=n_tot, replace=False)\n",
    "    \n",
    "    \n",
    "    for kdx, niter in enumerate(niter_list):\n",
    "        first = 0\n",
    "        for fold in range(KF):\n",
    "            flags = np.zeros(Xtr.shape[0])\n",
    "            flags[first:first+n_val]=1;\n",
    "            \n",
    "            X = Xtr[rand_idx[flags==0]]\n",
    "            Y = Ytr[rand_idx[flags==0]]\n",
    "            X_val = Xtr[rand_idx[flags==1]]\n",
    "            Y_val = Ytr[rand_idx[flags==1]]\n",
    "\n",
    "            # Compute the training error of OMP for the given number of iterations\n",
    "            w, r, I = OMatchingPursuit(X, Y, niter)\n",
    "            YpredTR = np.sign(X.dot(w))\n",
    "            trError = calcError(YpredTR, Y)\n",
    "            Tm[kdx] = Tm[kdx] + trError\n",
    "            Ts[kdx] = Ts[kdx] + trError ** 2\n",
    "\n",
    "            # Compute the validation error OMP for the given number of iterations\n",
    "            YpredVAL = np.sign(X_val.dot(w))\n",
    "            valError = calcError(YpredVAL, Y_val)\n",
    "            Vm[kdx] = Vm[kdx] + valError\n",
    "            Vs[kdx] = Vs[kdx] + valError ** 2\n",
    "            \n",
    "            first = first+n_val                \n",
    "\n",
    "    Tm = Tm / KF\n",
    "    Ts = Ts / KF - Tm ** 2\n",
    "\n",
    "    Vm = Vm / KF\n",
    "    Vs = Vs / KF - Vm ** 2\n",
    "\n",
    "    best_niter_idx = np.argmin(Vm)\n",
    "    bestniter = niter_list[best_niter_idx]\n",
    "    \n",
    "    print(Vm)\n",
    "    print(niter_list)\n",
    "    print(best_niter_idx)\n",
    "\n",
    "    return bestniter, Vm, Vs, Tm, Ts"
   ]
  },
  {
   "cell_type": "code",
   "execution_count": 24,
   "metadata": {},
   "outputs": [],
   "source": [
    "def OMatchingPursuit(X, Y, T):\n",
    "\n",
    "    N, D = np.shape(X)\n",
    "\n",
    "    # Initialization of residual, coefficient vector and index set I\n",
    "    r = Y\n",
    "    w = np.zeros(D)\n",
    "    I = []\n",
    "\n",
    "    for i in range(T):\n",
    "        I_tmp = range(D)\n",
    "\n",
    "        # Select the column of X which coefficients most \"explains\" the residual\n",
    "        a_max = -1\n",
    "\n",
    "        for j in I_tmp:\n",
    "            a_tmp = (r.T@X[:,j])**2/(np.dot(X[:,j],X[:,j].T)) \n",
    "\n",
    "            if a_tmp > a_max:\n",
    "                a_max = a_tmp\n",
    "                j_max = j\n",
    "\n",
    "        # Add the index to the set of indexes\n",
    "        if np.sum(I == j_max) == 0:\n",
    "            I.append(j_max)\n",
    "\n",
    "        # Compute the M matrix\n",
    "        M_I = np.zeros((D, D))\n",
    "\n",
    "        for j in I:\n",
    "            M_I[j, j] = 1\n",
    "\n",
    "        A = M_I.dot(X.T).dot(X).dot(M_I)\n",
    "        B = M_I.dot(X.T).dot(Y)\n",
    "\n",
    "        # Update estimated coefficients\n",
    "        w = np.linalg.pinv(A)@B\n",
    "\n",
    "        # Update the residual\n",
    "        r = Y - X@w\n",
    "\n",
    "    return w, r, I"
   ]
  },
  {
   "cell_type": "markdown",
   "metadata": {},
   "source": [
    "Let's use **Cross Validation** with 5 folds to find the best number of iterations for our OMP Algorithm."
   ]
  },
  {
   "cell_type": "code",
   "execution_count": 25,
   "metadata": {},
   "outputs": [
    {
     "name": "stdout",
     "output_type": "stream",
     "text": [
      "[0.42167488 0.42889984 0.43546798 0.43481117 0.43021346 0.43546798\n",
      " 0.4407225  0.4407225  0.43842365 0.43678161 0.43776683 0.43743842\n",
      " 0.43546798 0.4364532  0.43448276 0.43415435 0.43513957 0.43546798\n",
      " 0.43579639 0.43448276 0.43809524 0.43875205 0.43842365 0.43743842\n",
      " 0.43678161 0.43481117 0.43842365 0.43743842 0.43711002 0.43546798\n",
      " 0.43546798 0.43612479 0.43579639 0.43448276 0.43415435 0.43579639\n",
      " 0.43678161 0.43382594 0.43448276 0.43415435 0.43546798 0.43513957\n",
      " 0.43415435 0.43875205 0.43678161 0.43579639 0.43711002 0.4364532\n",
      " 0.43842365 0.43809524 0.43776683 0.43743842 0.43842365 0.43809524\n",
      " 0.43612479 0.43612479 0.43612479 0.43415435 0.42988506 0.43021346\n",
      " 0.43087028 0.42922824 0.42889984 0.43021346 0.43119869 0.42758621\n",
      " 0.42758621]\n",
      "[ 1  2  3  4  5  6  7  8  9 10 11 12 13 14 15 16 17 18 19 20 21 22 23 24\n",
      " 25 26 27 28 29 30 31 32 33 34 35 36 37 38 39 40 41 42 43 44 45 46 47 48\n",
      " 49 50 51 52 53 54 55 56 57 58 59 60 61 62 63 64 65 66 67]\n",
      "0\n",
      "Best number of iterations: 1\n"
     ]
    },
    {
     "data": {
      "image/png": "[encoded data removed]",
      "text/plain": [
       "<Figure size 1080x360 with 1 Axes>"
      ]
     },
     "metadata": {
      "needs_background": "light"
     },
     "output_type": "display_data"
    }
   ],
   "source": [
    "KF = 5\n",
    "niter_list = np.arange(1, Xtr.shape[1])\n",
    "bestniter, Vm, Vs, Tm, Ts = KFoldCVOMP(Xtrnorm, Ytr, KF, niter_list)\n",
    "\n",
    "plt.subplots()\n",
    "plt.plot(niter_list, Tm, label = 'Train Error')\n",
    "plt.plot(niter_list, Vm, label = 'Validation Error')\n",
    "plt.grid()\n",
    "plt.legend(loc = 'best')\n",
    "print('Best number of iterations: '+str(bestniter))"
   ]
  },
  {
   "cell_type": "code",
   "execution_count": 26,
   "metadata": {
    "scrolled": true
   },
   "outputs": [
    {
     "name": "stdout",
     "output_type": "stream",
     "text": [
      "The test Error is 0.41732283464566927\n",
      "The number of relevant features with 1 iterations is 1 and are [38]\n"
     ]
    }
   ],
   "source": [
    "w, r, I = OMatchingPursuit(Xtrnorm, Ytr, 1)\n",
    "YpredTe = np.sign(Xtenorm.dot(w))\n",
    "\n",
    "teError = calcError(YpredTe, Yte)\n",
    "print('The test Error is', teError)\n",
    "print('The number of relevant features with', bestniter, 'iterations is',len(I), 'and are', I)\n"
   ]
  },
  {
   "cell_type": "markdown",
   "metadata": {},
   "source": [
    "So we found that the most relevant feature is "
   ]
  },
  {
   "cell_type": "code",
   "execution_count": 27,
   "metadata": {},
   "outputs": [
    {
     "name": "stdout",
     "output_type": "stream",
     "text": [
      "Index(['assetTurnover'], dtype='object')\n"
     ]
    }
   ],
   "source": [
    "print(df.columns[I])"
   ]
  },
  {
   "cell_type": "markdown",
   "metadata": {},
   "source": [
    "But what is the **Asset Turnover**?\n",
    "\n",
    "According to [investopedia](https://www.investopedia.com/terms/a/assetturnover.asp), \"The asset turnover ratio measures the value of a company's sales or revenues relative to the value of its assets. The asset turnover ratio can be used as an indicator of the efficiency with which a company is using its assets to generate revenue.\", so it makes sense for it to be that important.\n",
    "\n",
    "Let's now see the 10 most relevant features."
   ]
  },
  {
   "cell_type": "code",
   "execution_count": 28,
   "metadata": {},
   "outputs": [
    {
     "name": "stdout",
     "output_type": "stream",
     "text": [
      "Index(['assetTurnover'], dtype='object')\n"
     ]
    }
   ],
   "source": [
    "w, r, I = OMatchingPursuit(Xtrnorm, Ytr, 1)\n",
    "print(df.columns[I])"
   ]
  },
  {
   "cell_type": "markdown",
   "metadata": {},
   "source": [
    "Let's take a look and see whether these results make sense. Honestly it's pretty difficult to find a consensus over which financial indicator is better, but we'll try our best.\n",
    "\n",
    "According to [this](https://www.investopedia.com/articles/fundamental-analysis/09/five-must-have-metrics-value-investors.asp#free-cash-flow) article by investopedia, we have that the 2 out of the 5 metrics listed here are present in our results (*Free Cash Flow* and *P/E Ratio*, in the form of *Earnings Yield*). We also have a general agreement ([here](https://www.investopedia.com/financial-edge/0910/6-basic-financial-ratios-and-what-they-tell-you.aspx) [here](https://www.fool.com/investing/2018/03/21/9-essential-metrics-all-smart-investors-should-kno.aspx) [here](https://www.investopedia.com/articles/investing/061916/what-best-measure-companys-financial-health.asp)\n",
    "[here](https://www.washingtonpost.com/blogs/on-small-business/post/5-financial-metrics-you-should-know/2012/05/25/gJQAuDSjpU_blog.html)) That the *Net Income per Share* and *Earning Before Tax Margin* are pretty important indicators."
   ]
  },
  {
   "cell_type": "markdown",
   "metadata": {},
   "source": [
    "## 4 - Conclusions\n",
    "\n"
   ]
  },
  {
   "cell_type": "markdown",
   "metadata": {},
   "source": [
    "Our Task was a pretty difficult one. We had a dataset with a whole bunch of problems (missing data, column almost completely filled with zeros, unbalanced classes) and we tried to meddle with all of those.\n",
    "We defined our problem as a binary classification one, and we used Support Vector Machines to solve it. We also had to deal with a really high complexity for the Cross Validation function since we had a lot of different parameters to choose from. \n",
    "We then proceeded to look at the most relevant features with matching pursuit to find that our results weren't so far from reality.\n",
    "\n",
    "The results weren't actually perfect, especially in the classification part,  but I still believe it was really useful to learn how to deal with a real problem with a real dataset of appropriate complexity and to learn more about Support Vector Machines and the kernels that we can use with it."
   ]
  }
 ],
 "metadata": {
  "kernelspec": {
   "display_name": "Python 3",
   "language": "python",
   "name": "python3"
  },
  "language_info": {
   "codemirror_mode": {
    "name": "ipython",
    "version": 3
   },
   "file_extension": ".py",
   "mimetype": "text/x-python",
   "name": "python",
   "nbconvert_exporter": "python",
   "pygments_lexer": "ipython3",
   "version": "3.7.9"
  }
 },
 "nbformat": 4,
 "nbformat_minor": 4
}
